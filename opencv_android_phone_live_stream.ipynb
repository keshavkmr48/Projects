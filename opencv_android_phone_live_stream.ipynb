{
 "cells": [
  {
   "cell_type": "code",
   "execution_count": 1,
   "metadata": {},
   "outputs": [],
   "source": [
    "import numpy as np\n",
    "import cv2\n",
    "import requests\n",
    "import matplotlib.pyplot as plt\n",
    "%matplotlib inline"
   ]
  },
  {
   "cell_type": "code",
   "execution_count": 2,
   "metadata": {},
   "outputs": [],
   "source": [
    "# ip address to capture android cam feed\n",
    "url = \"http://192.168.0.102:8080/shot.jpg\""
   ]
  },
  {
   "cell_type": "code",
   "execution_count": 3,
   "metadata": {},
   "outputs": [],
   "source": [
    "#get live video feed from android device\n",
    "while True:\n",
    "    img =  requests.get(url)\n",
    "    img_array = cv2.imdecode(buf=np.array(bytearray(img.content),dtype=np.uint8),flags=-1)\n",
    "    #create named window frame for video -- window_normal : resizeable window.\n",
    "    cv2.namedWindow('keshav_cam', cv2.WINDOW_NORMAL)\n",
    "    cv2.imshow('keshav_cam',img_array)\n",
    "    # keyboard interrupt to stop video feed-- 27 : esc\n",
    "    if cv2.waitKey(1)==27:\n",
    "        break"
   ]
  },
  {
   "cell_type": "code",
   "execution_count": null,
   "metadata": {},
   "outputs": [],
   "source": []
  }
 ],
 "metadata": {
  "kernelspec": {
   "display_name": "Python 3",
   "language": "python",
   "name": "python3"
  },
  "language_info": {
   "codemirror_mode": {
    "name": "ipython",
    "version": 3
   },
   "file_extension": ".py",
   "mimetype": "text/x-python",
   "name": "python",
   "nbconvert_exporter": "python",
   "pygments_lexer": "ipython3",
   "version": "3.6.5"
  }
 },
 "nbformat": 4,
 "nbformat_minor": 2
}
